{
 "cells": [
  {
   "cell_type": "markdown",
   "metadata": {},
   "source": [
    "# Ejercicio Criptografía\n",
    "\n",
    "1. Se nos da el siguiente criptograma\n",
    "\n",
    "```txt\n",
    "Ejercicio: 7 KPR(d,N): (5,2581)\n",
    "1236\n",
    "2131\n",
    "15\n",
    "2131\n",
    "202\n",
    "2069\n",
    "1035\n",
    "2069\n",
    "1104\n",
    "662\n",
    "```\n",
    "\n",
    "## 2. Metodología de resolución\n",
    "\n",
    "\n",
    "\n"
   ]
  },
  {
   "cell_type": "code",
   "execution_count": null,
   "metadata": {},
   "outputs": [
    {
     "name": "stdout",
     "output_type": "stream",
     "text": [
      "hola? 1\n"
     ]
    }
   ],
   "source": [
    "# AEE Euclides Extended UC\n",
    "# Adapted from : http://inventwithpython.com/hacking (BSD Licensed)\n",
    "\n",
    "\n",
    "def gcd(a, b):\n",
    "    \"\"\"Return the GCD of a and b using Euclid's Algorithm\"\"\"\n",
    "    while a != 0:\n",
    "        a, b = b % a, a\n",
    "    return b\n",
    "\n",
    "\n",
    "def findModInverse(a, m):\n",
    "    \"\"\"Returns the modular inverse of a % m, which is the number x such that a*x % m = 1.\"\"\"\n",
    "\n",
    "    if gcd(a, m) != 1:\n",
    "        return None  # no mod inverse if a & m aren't relatively prime\n",
    "\n",
    "    # Extended Euclidean Algorithm:\n",
    "    u1, u2, u3 = 1, 0, a\n",
    "    v1, v2, v3 = 0, 1, m\n",
    "    while v3 != 0:\n",
    "        q = u3 // v3\n",
    "        v1, v2, v3, u1, u2, u3 =\\\n",
    "            (u1 - q * v1), (u2 - q * v2), (u3 - q * v3), v1, v2, v3\n",
    "    return u1 % m\n",
    "\n",
    "\n",
    "x = 7\n",
    "y = 3312\n",
    "e = findModInverse(x, y)\n",
    "print(e)\n"
   ]
  }
 ],
 "metadata": {
  "kernelspec": {
   "display_name": ".venv",
   "language": "python",
   "name": "python3"
  },
  "language_info": {
   "codemirror_mode": {
    "name": "ipython",
    "version": 3
   },
   "file_extension": ".py",
   "mimetype": "text/x-python",
   "name": "python",
   "nbconvert_exporter": "python",
   "pygments_lexer": "ipython3",
   "version": "3.11.9"
  }
 },
 "nbformat": 4,
 "nbformat_minor": 2
}
