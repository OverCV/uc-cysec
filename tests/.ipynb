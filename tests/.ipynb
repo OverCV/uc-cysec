{
 "cells": [
  {
   "cell_type": "code",
   "execution_count": 36,
   "metadata": {},
   "outputs": [],
   "source": [
    "frec_cifrado = {\n",
    "    \"k\": 11.386919,\n",
    "    \"a\": 9.771474,\n",
    "    \"m\": 7.880221,\n",
    "    \"!\": 7.289204,\n",
    "    \"p\": 5.713160,\n",
    "    \")\": 5.634358,\n",
    "    \"t\": 4.531127,\n",
    "    \"b\": 4.334121,\n",
    "    \"^\": 3.782506,\n",
    "    \"s\": 3.703704,\n",
    "    \"#\": 3.506698,\n",
    "    \"*\": 3.073286,\n",
    "    \"@\": 2.994484,\n",
    "    \"h\": 2.364066,\n",
    "    \"(\": 1.379039,\n",
    "    \"c\": 0.906225,\n",
    "    \"l\": 0.827423,\n",
    "    \"i\": 0.748621,\n",
    "    \"d\": 0.669819,\n",
    "    \"r\": 0.591017,\n",
    "    \"g\": 0.591017,\n",
    "    \"j\": 0.551615,\n",
    "    \"o\": 0.472813,\n",
    "    \"q\": 0.236407,\n",
    "    \"%\": 0.197006,\n",
    "    \"f\": 0.118203,\n",
    "    \"$\": 0.000000,\n",
    "}\n",
    "\n",
    "frec_espanol = {\n",
    "    \"E\": 13.680000,\n",
    "    \"A\": 12.530000,\n",
    "    \"O\": 8.680000,\n",
    "    \"S\": 7.980000,\n",
    "    \"R\": 6.870000,\n",
    "    \"N\": 6.710000,\n",
    "    \"I\": 6.250000,\n",
    "    \"D\": 5.860000,\n",
    "    \"L\": 4.970000,\n",
    "    \"C\": 4.680000,\n",
    "    \"T\": 4.630000,\n",
    "    \"U\": 3.930000,\n",
    "    \"M\": 3.150000,\n",
    "    \"P\": 2.510000,\n",
    "    \"B\": 1.420000,\n",
    "    \"G\": 1.010000,\n",
    "    \"V\": 0.900000,\n",
    "    \"Y\": 0.900000,\n",
    "    \"Q\": 0.880000,\n",
    "    \"H\": 0.700000,\n",
    "    \"F\": 0.690000,\n",
    "    \"Z\": 0.500000,\n",
    "    \"J\": 0.440000,\n",
    "    \"Ñ\": 0.310000,\n",
    "    \"X\": 0.220000,\n",
    "    \"W\": 0.020000,\n",
    "    \"K\": 0.000000,\n",
    "}"
   ]
  },
  {
   "cell_type": "code",
   "execution_count": 37,
   "metadata": {},
   "outputs": [
    {
     "name": "stdout",
     "output_type": "stream",
     "text": [
      "27 27\n",
      "a*^#ashkp^k tb!@mpkhm! tk #pa ()ap *ap^btat tk pack(atm)k! rki @a)a ksk(b) ks p#k!^)m *mp*k@^m! *mhm\n"
     ]
    }
   ],
   "source": [
    "\n",
    "# frecuencias:\n",
    "\n",
    "print(len(frec_cifrado), len(frec_espanol))\n",
    "\n",
    "# lectura del texto:\n",
    "\n",
    "texto = \"Sin contenido\"\n",
    "with open(\"texto_cifrado.txt\", \"r\") as f:\n",
    "    texto = f.read().replace(\"\\n\", \" \").replace(\" \", \"\")\n",
    "\n",
    "# reemplazo de n por espacio (16.745469):\n",
    "texto = texto.replace(\"n\", \" \")\n",
    "\n",
    "print(texto[:100])"
   ]
  },
  {
   "cell_type": "code",
   "execution_count": 38,
   "metadata": {},
   "outputs": [
    {
     "name": "stdout",
     "output_type": "stream",
     "text": [
      "AULTACPERLE IDSMOREPOS IE TRA BNAR UARLDIAI IE RAGEBAIONES HEY MANA ECEBDN EC RTESLNO UORUEMLOS UOPO\n"
     ]
    }
   ],
   "source": [
    "# Se tienen dos tablas:\n",
    "# print(frec_cifrado)\n",
    "# print(frec_espanol)\n",
    "\n",
    "texto_a_espanol = {\n",
    "    x: y for x, y in zip(frec_cifrado.keys(), frec_espanol.keys())\n",
    "}\n",
    "# print(texto_a_espanol)\n",
    "\n",
    "# for x, y in zip(frec_cifrado.keys(), frec_espanol.keys()):\n",
    "#     print(f'{x} <- {y}')\n",
    "\n",
    "escrito = ''\n",
    "for caracter in texto:\n",
    "    if caracter == ' ':\n",
    "        escrito += ' '\n",
    "        continue\n",
    "    escrito += texto_a_espanol[caracter]\n",
    "\n",
    "print(escrito[:100])"
   ]
  }
 ],
 "metadata": {
  "kernelspec": {
   "display_name": ".venv",
   "language": "python",
   "name": "python3"
  },
  "language_info": {
   "codemirror_mode": {
    "name": "ipython",
    "version": 3
   },
   "file_extension": ".py",
   "mimetype": "text/x-python",
   "name": "python",
   "nbconvert_exporter": "python",
   "pygments_lexer": "ipython3",
   "version": "3.11.9"
  }
 },
 "nbformat": 4,
 "nbformat_minor": 2
}
